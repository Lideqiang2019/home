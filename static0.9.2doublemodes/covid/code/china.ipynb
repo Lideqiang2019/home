{
 "cells": [
  {
   "cell_type": "code",
   "execution_count": 1,
   "metadata": {},
   "outputs": [],
   "source": [
    "import pandas as pd\n",
    "import json\n",
    "import datetime\n",
    "from config import args"
   ]
  },
  {
   "cell_type": "code",
   "execution_count": 2,
   "metadata": {},
   "outputs": [],
   "source": [
    "pathdata = '0327'\n",
    "filedata = '3.27'\n",
    "Days = 67\n",
    "path = './data/china_data_'+pathdata+'/'\n",
    "filename = 'china_data_confirmed_'+filedata+'.xlsx'\n",
    "tmpXslxConf = pd.read_excel(path + filename)\n",
    "filename = 'china_data_death_'+filedata+'.xlsx'\n",
    "tmpXslxDeath = pd.read_excel(path + filename)\n",
    "filename = 'china_data_recovered_'+filedata+'.xlsx'\n",
    "tmpXslxRecr = pd.read_excel(path + filename)\n",
    "names = list(tmpXslxConf[tmpXslxConf.columns[0]])\n",
    "patC_cn = {name:[] for name in args.cityName}\n",
    "patD_cn = {name:[] for name in args.cityName}\n",
    "patR_cn = {name:[] for name in args.cityName}\n",
    "for i in range(34):\n",
    "    patC_cn[names[i]] = [0] + list(tmpXslxConf[tmpXslxConf.columns[1:]].iloc[i])\n",
    "    patD_cn[names[i]] = [0] + list(tmpXslxDeath[tmpXslxDeath.columns[1:]].iloc[i])\n",
    "    patR_cn[names[i]] = [0] + list(tmpXslxRecr[tmpXslxRecr.columns[1:]].iloc[i])\n"
   ]
  },
  {
   "cell_type": "code",
   "execution_count": 3,
   "metadata": {},
   "outputs": [
    {
     "name": "stdout",
     "output_type": "stream",
     "text": [
      "['date', 'country', 'province', 'prov_longitude', 'prov_latitude', 'death_cases', 'confirmed_cases', 'heal_cases', 'days', 'cumulative_confirmed_cases', 'cumulative_death_cases', 'cumulative_heal_cases']\n"
     ]
    }
   ],
   "source": [
    "print(args.DatabaseName)"
   ]
  },
  {
   "cell_type": "code",
   "execution_count": 3,
   "metadata": {},
   "outputs": [],
   "source": [
    "DictDF = {na:[] for na in args.DatabaseName}\n",
    "for name in list(patC_cn.keys()):\n",
    "    for i in range(len(patC_cn[name])-1):\n",
    "        a = datetime.date(2020,1,21)+datetime.timedelta(days=i)\n",
    "        DictDF[args.DatabaseName[0]].append(a.isoformat())\n",
    "        DictDF[args.DatabaseName[1]].append('China')\n",
    "        DictDF[args.DatabaseName[2]].append(args.provinceCn2En[name])\n",
    "        # 经纬度\n",
    "        tmpLL = args.provinceCenter[args.data2Map[name]]\n",
    "        DictDF[args.DatabaseName[3]].append(tmpLL['lon'])\n",
    "        DictDF[args.DatabaseName[4]].append(tmpLL['lat'])\n",
    "        # 病人情况 D, C, R\n",
    "        DictDF[args.DatabaseName[5]].append(patD_cn[name][i+1] - patD_cn[name][i])\n",
    "        DictDF[args.DatabaseName[6]].append(patC_cn[name][i+1] - patC_cn[name][i])\n",
    "        DictDF[args.DatabaseName[7]].append(patR_cn[name][i+1] - patR_cn[name][i])\n",
    "        # 其他\n",
    "        DictDF[args.DatabaseName[8]].append(i)\n",
    "        # 病人情况 C, D, R\n",
    "        DictDF[args.DatabaseName[9]].append(patC_cn[name][i+1])\n",
    "        DictDF[args.DatabaseName[10]].append(patD_cn[name][i+1])\n",
    "        DictDF[args.DatabaseName[11]].append(patR_cn[name][i+1])\n",
    "        \n",
    "        \n",
    "a = pd.DataFrame(DictDF)\n",
    "a['is_delete'] = [0]*len(a)"
   ]
  },
  {
   "cell_type": "code",
   "execution_count": 4,
   "metadata": {},
   "outputs": [],
   "source": [
    "a.to_csv('./ChinaImport.csv')"
   ]
  },
  {
   "cell_type": "code",
   "execution_count": null,
   "metadata": {},
   "outputs": [],
   "source": []
  },
  {
   "cell_type": "code",
   "execution_count": null,
   "metadata": {},
   "outputs": [],
   "source": []
  },
  {
   "cell_type": "code",
   "execution_count": null,
   "metadata": {},
   "outputs": [],
   "source": []
  },
  {
   "cell_type": "code",
   "execution_count": null,
   "metadata": {},
   "outputs": [],
   "source": []
  }
 ],
 "metadata": {
  "kernelspec": {
   "display_name": "Python 3",
   "language": "python",
   "name": "python3"
  },
  "language_info": {
   "codemirror_mode": {
    "name": "ipython",
    "version": 3
   },
   "file_extension": ".py",
   "mimetype": "text/x-python",
   "name": "python",
   "nbconvert_exporter": "python",
   "pygments_lexer": "ipython3",
   "version": "3.7.0"
  }
 },
 "nbformat": 4,
 "nbformat_minor": 4
}
